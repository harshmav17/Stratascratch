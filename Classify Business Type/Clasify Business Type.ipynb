{
 "cells": [
  {
   "cell_type": "code",
   "execution_count": null,
   "id": "9352e161-4fa2-471e-991e-7d22eecf58ce",
   "metadata": {},
   "outputs": [],
   "source": [
    "import pyspark\n",
    "from pyspark.sql.functions import *"
   ]
  },
  {
   "cell_type": "code",
   "execution_count": null,
   "id": "56e76efe-b539-41e9-b978-389735020069",
   "metadata": {},
   "outputs": [],
   "source": [
    "df = sf_restaurant_health_violations.withColumn('Classifications' ,when(lower(col('business_name')).like( '%restaurant%'),'restaurant').when(lower(col('business_name')).like('%cafe%') | lower(col('business_name')).like( '%café%') | lower(col('business_name')).like( '%coffee%'),'cafe').when(lower(col('business_name')).like( '%school%'),'School').otherwise('Other'))"
   ]
  },
  {
   "cell_type": "code",
   "execution_count": null,
   "id": "f8c490ce-2695-4f02-bc4d-4b4d7f7df56a",
   "metadata": {},
   "outputs": [],
   "source": [
    "df.select(col('business_name'),col('Classifications')).distinct().toPandas()"
   ]
  }
 ],
 "metadata": {
  "kernelspec": {
   "display_name": "Python 3 (ipykernel)",
   "language": "python",
   "name": "python3"
  },
  "language_info": {
   "codemirror_mode": {
    "name": "ipython",
    "version": 3
   },
   "file_extension": ".py",
   "mimetype": "text/x-python",
   "name": "python",
   "nbconvert_exporter": "python",
   "pygments_lexer": "ipython3",
   "version": "3.12.7"
  }
 },
 "nbformat": 4,
 "nbformat_minor": 5
}
