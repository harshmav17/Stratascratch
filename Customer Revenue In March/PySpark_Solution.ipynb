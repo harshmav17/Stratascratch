{
 "cells": [
  {
   "cell_type": "code",
   "execution_count": 2,
   "id": "56e76efe-b539-41e9-b978-389735020069",
   "metadata": {},
   "outputs": [],
   "source": [
    "from pyspark.sql.functions import col,year,month,sum"
   ]
  },
  {
   "cell_type": "code",
   "execution_count": null,
   "id": "f8c490ce-2695-4f02-bc4d-4b4d7f7df56a",
   "metadata": {},
   "outputs": [],
   "source": [
    "df = orders.filter((year(col('order_date')) == 2019) & (month(col('order_date')) == 3))"
   ]
  },
  {
   "cell_type": "code",
   "execution_count": null,
   "id": "7e865a2a-f0bc-4fc6-a392-0b4b7816953b",
   "metadata": {},
   "outputs": [],
   "source": [
    "df_revenue = df.groupBy(col('cust_id')).agg(sum(col('total_order_cost')).alias('revenue')).orderBy(col('revenue').desc())\n",
    "df_revenue.toPandas()"
   ]
  }
 ],
 "metadata": {
  "kernelspec": {
   "display_name": "Python 3 (ipykernel)",
   "language": "python",
   "name": "python3"
  },
  "language_info": {
   "codemirror_mode": {
    "name": "ipython",
    "version": 3
   },
   "file_extension": ".py",
   "mimetype": "text/x-python",
   "name": "python",
   "nbconvert_exporter": "python",
   "pygments_lexer": "ipython3",
   "version": "3.12.7"
  }
 },
 "nbformat": 4,
 "nbformat_minor": 5
}
