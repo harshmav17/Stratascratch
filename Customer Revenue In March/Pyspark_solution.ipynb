from pyspark.sql.functions import col,year,month,sum

df = orders.filter((year(col('order_date')) == 2019) & (month(col('order_date')) == 3))

df_revenue = df.groupBy(col('cust_id')).agg(sum(col('total_order_cost')).alias('revenue')).orderBy(col('revenue').desc())

df_revenue.toPandas()
