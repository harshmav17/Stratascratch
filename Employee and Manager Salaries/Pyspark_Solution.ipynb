{
 "cells": [
  {
   "cell_type": "code",
   "execution_count": null,
   "id": "9352e161-4fa2-471e-991e-7d22eecf58ce",
   "metadata": {},
   "outputs": [],
   "source": [
    "from pyspark.sql.functions import col"
   ]
  },
  {
   "cell_type": "code",
   "execution_count": null,
   "id": "56e76efe-b539-41e9-b978-389735020069",
   "metadata": {},
   "outputs": [],
   "source": [
    "df_emp_mgr = (employee.alias(\"emp\").join(employee.alias(\"mgr\"), col(\"emp.manager_id\") == col(\"mgr.id\"), \"inner\")) \n",
    "df =  df_emp_mgr.filter(col(\"emp.salary\") > col(\"mgr.salary\")).select(col(\"emp.first_name\"), col(\"emp.salary\"))"
   ]
  },
  {
   "cell_type": "code",
   "execution_count": null,
   "id": "f8c490ce-2695-4f02-bc4d-4b4d7f7df56a",
   "metadata": {},
   "outputs": [],
   "source": [
    "df.toPandas()"
   ]
  }
 ],
 "metadata": {
  "kernelspec": {
   "display_name": "Python 3 (ipykernel)",
   "language": "python",
   "name": "python3"
  },
  "language_info": {
   "codemirror_mode": {
    "name": "ipython",
    "version": 3
   },
   "file_extension": ".py",
   "mimetype": "text/x-python",
   "name": "python",
   "nbconvert_exporter": "python",
   "pygments_lexer": "ipython3",
   "version": "3.12.7"
  }
 },
 "nbformat": 4,
 "nbformat_minor": 5
}
