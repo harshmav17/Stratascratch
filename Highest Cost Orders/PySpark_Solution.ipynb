{
 "cells": [
  {
   "cell_type": "code",
   "execution_count": null,
   "id": "1006a2e1-d6f6-4b69-887f-d133d5ca9c8c",
   "metadata": {},
   "outputs": [],
   "source": [
    "import pyspark\n",
    "from pyspark.sql.functions import col,sum,max"
   ]
  },
  {
   "cell_type": "code",
   "execution_count": null,
   "id": "e7135b76-0f54-4cf1-8b0b-1faefb338293",
   "metadata": {},
   "outputs": [],
   "source": [
    "order_details = orders.filter((col('order_date') >= '2019-02-01') & (col('order_date') <= '2019-05-01')).groupBy(col('cust_id'),col('order_date')).agg(sum(col('total_order_cost')).alias('total_order_cost'))"
   ]
  },
  {
   "cell_type": "code",
   "execution_count": null,
   "id": "083d463c-448a-4dc6-b3ce-87bc12e5f1d0",
   "metadata": {},
   "outputs": [],
   "source": [
    "max_order_cost = order_details.agg(max(col('total_order_cost'))).collect()"
   ]
  },
  {
   "cell_type": "code",
   "execution_count": null,
   "id": "241bdc82-d55f-45f2-9417-924e8b34b19c",
   "metadata": {},
   "outputs": [],
   "source": [
    "order_details = order_details.filter(col('total_order_cost') == max_order_cost[0][0])"
   ]
  },
  {
   "cell_type": "code",
   "execution_count": null,
   "id": "47ba1161-7d95-4055-bc68-f8ce3009a544",
   "metadata": {},
   "outputs": [],
   "source": [
    "customers.join(order_details,customers.id == order_details.cust_id , 'inner').select(col('first_name'),col('order_date'),col('total_order_cost').alias('max_cost')).toPandas()"
   ]
  }
 ],
 "metadata": {
  "kernelspec": {
   "display_name": "Python 3 (ipykernel)",
   "language": "python",
   "name": "python3"
  },
  "language_info": {
   "codemirror_mode": {
    "name": "ipython",
    "version": 3
   },
   "file_extension": ".py",
   "mimetype": "text/x-python",
   "name": "python",
   "nbconvert_exporter": "python",
   "pygments_lexer": "ipython3",
   "version": "3.12.7"
  }
 },
 "nbformat": 4,
 "nbformat_minor": 5
}
