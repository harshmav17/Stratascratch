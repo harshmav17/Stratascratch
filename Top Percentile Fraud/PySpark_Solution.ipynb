{
 "cells": [
  {
   "cell_type": "code",
   "execution_count": null,
   "id": "9352e161-4fa2-471e-991e-7d22eecf58ce",
   "metadata": {},
   "outputs": [],
   "source": [
    "from pyspark.sql.functions import col, percent_rank\n",
    "from pyspark.sql.window import Window"
   ]
  },
  {
   "cell_type": "code",
   "execution_count": null,
   "id": "56e76efe-b539-41e9-b978-389735020069",
   "metadata": {},
   "outputs": [],
   "source": [
    "windowSpec = Window.partitionBy(col('state')).orderBy(col('fraud_score'))\n",
    "df = fraud_score.withColumn('percentile_threshold',percent_rank().over(windowSpec))\n",
    "df_top_5_percentile = df.filter(col('percentile_threshold') >= 0.95) \n"
   ]
  },
  {
   "cell_type": "code",
   "execution_count": null,
   "id": "f8c490ce-2695-4f02-bc4d-4b4d7f7df56a",
   "metadata": {},
   "outputs": [],
   "source": [
    "df_top_5_percentile.select('policy_num','state','claim_cost','fraud_score').toPandas()"
   ]
  }
 ],
 "metadata": {
  "kernelspec": {
   "display_name": "Python 3 (ipykernel)",
   "language": "python",
   "name": "python3"
  },
  "language_info": {
   "codemirror_mode": {
    "name": "ipython",
    "version": 3
   },
   "file_extension": ".py",
   "mimetype": "text/x-python",
   "name": "python",
   "nbconvert_exporter": "python",
   "pygments_lexer": "ipython3",
   "version": "3.12.7"
  }
 },
 "nbformat": 4,
 "nbformat_minor": 5
}
