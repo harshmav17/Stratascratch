{
 "cells": [
  {
   "cell_type": "code",
   "execution_count": null,
   "id": "99414fe6-8e85-4fa4-b91c-6829e2859667",
   "metadata": {},
   "outputs": [],
   "source": [
    "from pyspark.sql.functions import col\n",
    "import pandas as pd"
   ]
  },
  {
   "cell_type": "code",
   "execution_count": null,
   "id": "7156afae-fbd3-4abd-aece-efa7c2329fcd",
   "metadata": {},
   "outputs": [],
   "source": [
    "res = 100 * (\n",
    "    fb_active_users.filter(\n",
    "        (col('country') == \"USA\") & (col('status') == 'open')\n",
    "    ).count()\n",
    ") / fb_active_users.count()"
   ]
  },
  {
   "cell_type": "code",
   "execution_count": null,
   "id": "a2e4f083-aee2-404a-8b40-cb0b86ebf99e",
   "metadata": {},
   "outputs": [],
   "source": [
    "df = pd.DataFrame({'us_active_share': [res]})\n",
    "print(df)"
   ]
  }
 ],
 "metadata": {
  "kernelspec": {
   "display_name": "",
   "name": ""
  },
  "language_info": {
   "name": ""
  }
 },
 "nbformat": 4,
 "nbformat_minor": 5
}
