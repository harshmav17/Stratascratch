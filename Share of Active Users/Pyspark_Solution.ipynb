import nbformat as nbf

nb = nbf.v4.new_notebook()
code = """
from pyspark.sql.functions import col
import pandas as pd

res = 100 * (
    fb_active_users.filter(
        (col('country') == "USA") & (col('status') == 'open')
    ).count()
) / fb_active_users.count()

df = pd.DataFrame({'us_active_share': [res]})
print(df)
"""

nb['cells'] = [nbf.v4.new_code_cell(code)]

with open("share_of_active_users.ipynb", "w") as f:
    nbf.write(nb, f)
