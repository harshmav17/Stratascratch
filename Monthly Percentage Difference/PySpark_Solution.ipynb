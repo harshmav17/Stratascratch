{
 "cells": [
  {
   "cell_type": "code",
   "execution_count": 2,
   "id": "56e76efe-b539-41e9-b978-389735020069",
   "metadata": {},
   "outputs": [],
   "source": [
    "# Import your libraries\n",
    "from pyspark.sql.functions import col,date_format,sum,lag\n",
    "from pyspark.sql.window import Window"
   ]
  },
  {
   "cell_type": "code",
   "execution_count": null,
   "id": "f8c490ce-2695-4f02-bc4d-4b4d7f7df56a",
   "metadata": {},
   "outputs": [],
   "source": [
    "# Start writing code\n",
    "df = sf_transactions.groupBy(date_format(col('created_at'),'yyyy-MM').alias('year_month')).agg(sum(col('value')).alias('monthly_revenue')).orderBy(col('year_month'))\n",
    "\n",
    "window_spec = Window.orderBy(col('year_month'))\n",
    "df_lagged = df.withColumn('prev_month_revenue', lag(col('monthly_revenue')).over(window_spec))\n",
    "final_df = df_lagged.select(col('year_month'),(100*(col('monthly_revenue') - col('prev_month_revenue'))/col('prev_month_revenue')).alias('revenue_diff_pct'))"
   ]
  },
  {
   "cell_type": "code",
   "execution_count": null,
   "id": "7e865a2a-f0bc-4fc6-a392-0b4b7816953b",
   "metadata": {},
   "outputs": [],
   "source": [
    "# To validate your solution, convert your final pySpark df to a pandas df\n",
    "final_df.toPandas()"
   ]
  }
 ],
 "metadata": {
  "kernelspec": {
   "display_name": "Python 3 (ipykernel)",
   "language": "python",
   "name": "python3"
  },
  "language_info": {
   "codemirror_mode": {
    "name": "ipython",
    "version": 3
   },
   "file_extension": ".py",
   "mimetype": "text/x-python",
   "name": "python",
   "nbconvert_exporter": "python",
   "pygments_lexer": "ipython3",
   "version": "3.12.7"
  }
 },
 "nbformat": 4,
 "nbformat_minor": 5
}
